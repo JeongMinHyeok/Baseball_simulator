{
 "cells": [
  {
   "cell_type": "code",
   "execution_count": 6,
   "id": "d9afae04-6fdc-4023-9b05-0e3b80638423",
   "metadata": {},
   "outputs": [
    {
     "name": "stdout",
     "output_type": "stream",
     "text": [
      "삭제완료\n"
     ]
    }
   ],
   "source": [
    "# 10명의 기록마다 컬럼명이 새로 생기므로 이를 없애줌\n",
    "while True:\n",
    "    try:\n",
    "        p_list.remove(['순', '이름', '팀', '정렬', '출장', '완투', '완봉', '선발', '승', '패', '세', '홀드', '이닝', '실점', '자책', '타자', '안타', '2타', '3타', '홈런', '볼넷', '고4', '사구', '삼진', '보크', '폭투', '비율', 'WAR', 'WPA'])\n",
    "        p_list.remove(['WAR', 'ERA', 'FIP', 'WHIP', 'ERA+', 'FIP+'])\n",
    "    except:\n",
    "        print('삭제완료')\n",
    "        break"
   ]
  },
  {
   "cell_type": "code",
   "execution_count": 7,
   "id": "44a04c66-13c3-4ea6-a5f8-c63b7de63eb2",
   "metadata": {},
   "outputs": [],
   "source": [
    "# (2021시즌 기록의 경우) ERA+ 지표가 생성되지 않은 선수들에 대해 np.nan값 입력\n",
    "import numpy as np\n",
    "\n",
    "for p in p_list:\n",
    "    if len(p) != 33:\n",
    "        p.insert(29, np.nan)"
   ]
  },
  {
   "cell_type": "code",
   "execution_count": 10,
   "id": "6dd3e55b-9690-48c0-b6b3-149e9a4771ae",
   "metadata": {},
   "outputs": [],
   "source": [
    "# 각 선수들의 기록을 행 형태로 삽입하기 위하여 Series 형태로 변환 뒤 df에 삽입\n",
    "for p in p_list:\n",
    "    pitch_df = pitch_df.append(pd.Series(p, index=pitch_df.columns), ignore_index=True)"
   ]
  },
  {
   "cell_type": "code",
   "execution_count": 11,
   "id": "186aca7c-4cf6-4a05-986c-d8ca09393798",
   "metadata": {},
   "outputs": [
    {
     "data": {
      "text/html": [
       "<div>\n",
       "<style scoped>\n",
       "    .dataframe tbody tr th:only-of-type {\n",
       "        vertical-align: middle;\n",
       "    }\n",
       "\n",
       "    .dataframe tbody tr th {\n",
       "        vertical-align: top;\n",
       "    }\n",
       "\n",
       "    .dataframe thead th {\n",
       "        text-align: right;\n",
       "    }\n",
       "</style>\n",
       "<table border=\"1\" class=\"dataframe\">\n",
       "  <thead>\n",
       "    <tr style=\"text-align: right;\">\n",
       "      <th></th>\n",
       "      <th>순</th>\n",
       "      <th>이름</th>\n",
       "      <th>팀</th>\n",
       "      <th>정렬</th>\n",
       "      <th>출장</th>\n",
       "      <th>완투</th>\n",
       "      <th>완봉</th>\n",
       "      <th>선발</th>\n",
       "      <th>승</th>\n",
       "      <th>패</th>\n",
       "      <th>...</th>\n",
       "      <th>삼진</th>\n",
       "      <th>보크</th>\n",
       "      <th>폭투</th>\n",
       "      <th>ERA</th>\n",
       "      <th>FIP</th>\n",
       "      <th>WHIP</th>\n",
       "      <th>ERA+</th>\n",
       "      <th>FIP+</th>\n",
       "      <th>WPA</th>\n",
       "      <th>WAR</th>\n",
       "    </tr>\n",
       "  </thead>\n",
       "  <tbody>\n",
       "    <tr>\n",
       "      <th>0</th>\n",
       "      <td>1</td>\n",
       "      <td>미란다</td>\n",
       "      <td>21두</td>\n",
       "      <td>7.09</td>\n",
       "      <td>28</td>\n",
       "      <td>1</td>\n",
       "      <td>1</td>\n",
       "      <td>28</td>\n",
       "      <td>14</td>\n",
       "      <td>5</td>\n",
       "      <td>...</td>\n",
       "      <td>225</td>\n",
       "      <td>1</td>\n",
       "      <td>7</td>\n",
       "      <td>2.33</td>\n",
       "      <td>2.67</td>\n",
       "      <td>1.14</td>\n",
       "      <td>185.0</td>\n",
       "      <td>161.1</td>\n",
       "      <td>7.09</td>\n",
       "      <td>3.27</td>\n",
       "    </tr>\n",
       "    <tr>\n",
       "      <th>1</th>\n",
       "      <td>2</td>\n",
       "      <td>백정현</td>\n",
       "      <td>21삼</td>\n",
       "      <td>5.28</td>\n",
       "      <td>27</td>\n",
       "      <td>0</td>\n",
       "      <td>0</td>\n",
       "      <td>27</td>\n",
       "      <td>14</td>\n",
       "      <td>5</td>\n",
       "      <td>...</td>\n",
       "      <td>109</td>\n",
       "      <td>0</td>\n",
       "      <td>5</td>\n",
       "      <td>2.63</td>\n",
       "      <td>4.21</td>\n",
       "      <td>1.24</td>\n",
       "      <td>171.9</td>\n",
       "      <td>107.3</td>\n",
       "      <td>5.28</td>\n",
       "      <td>1.78</td>\n",
       "    </tr>\n",
       "    <tr>\n",
       "      <th>2</th>\n",
       "      <td>3</td>\n",
       "      <td>고영표</td>\n",
       "      <td>21K</td>\n",
       "      <td>5.23</td>\n",
       "      <td>26</td>\n",
       "      <td>1</td>\n",
       "      <td>1</td>\n",
       "      <td>25</td>\n",
       "      <td>11</td>\n",
       "      <td>6</td>\n",
       "      <td>...</td>\n",
       "      <td>130</td>\n",
       "      <td>0</td>\n",
       "      <td>1</td>\n",
       "      <td>2.92</td>\n",
       "      <td>3.19</td>\n",
       "      <td>1.04</td>\n",
       "      <td>154.0</td>\n",
       "      <td>139.2</td>\n",
       "      <td>5.23</td>\n",
       "      <td>2.27</td>\n",
       "    </tr>\n",
       "    <tr>\n",
       "      <th>3</th>\n",
       "      <td>4</td>\n",
       "      <td>켈리</td>\n",
       "      <td>21L</td>\n",
       "      <td>4.96</td>\n",
       "      <td>30</td>\n",
       "      <td>0</td>\n",
       "      <td>0</td>\n",
       "      <td>30</td>\n",
       "      <td>13</td>\n",
       "      <td>8</td>\n",
       "      <td>...</td>\n",
       "      <td>142</td>\n",
       "      <td>1</td>\n",
       "      <td>7</td>\n",
       "      <td>3.15</td>\n",
       "      <td>3.76</td>\n",
       "      <td>1.24</td>\n",
       "      <td>136.8</td>\n",
       "      <td>115.1</td>\n",
       "      <td>4.96</td>\n",
       "      <td>1.61</td>\n",
       "    </tr>\n",
       "    <tr>\n",
       "      <th>4</th>\n",
       "      <td>5</td>\n",
       "      <td>원태인</td>\n",
       "      <td>21삼</td>\n",
       "      <td>4.76</td>\n",
       "      <td>26</td>\n",
       "      <td>0</td>\n",
       "      <td>0</td>\n",
       "      <td>26</td>\n",
       "      <td>14</td>\n",
       "      <td>7</td>\n",
       "      <td>...</td>\n",
       "      <td>129</td>\n",
       "      <td>1</td>\n",
       "      <td>5</td>\n",
       "      <td>3.06</td>\n",
       "      <td>3.65</td>\n",
       "      <td>1.25</td>\n",
       "      <td>147.4</td>\n",
       "      <td>123.4</td>\n",
       "      <td>4.76</td>\n",
       "      <td>2.41</td>\n",
       "    </tr>\n",
       "  </tbody>\n",
       "</table>\n",
       "<p>5 rows × 33 columns</p>\n",
       "</div>"
      ],
      "text/plain": [
       "   순   이름    팀    정렬  출장 완투 완봉  선발   승  패  ...   삼진 보크 폭투   ERA   FIP  WHIP  \\\n",
       "0  1  미란다  21두  7.09  28  1  1  28  14  5  ...  225  1  7  2.33  2.67  1.14   \n",
       "1  2  백정현  21삼  5.28  27  0  0  27  14  5  ...  109  0  5  2.63  4.21  1.24   \n",
       "2  3  고영표  21K  5.23  26  1  1  25  11  6  ...  130  0  1  2.92  3.19  1.04   \n",
       "3  4   켈리  21L  4.96  30  0  0  30  13  8  ...  142  1  7  3.15  3.76  1.24   \n",
       "4  5  원태인  21삼  4.76  26  0  0  26  14  7  ...  129  1  5  3.06  3.65  1.25   \n",
       "\n",
       "    ERA+   FIP+   WPA   WAR  \n",
       "0  185.0  161.1  7.09  3.27  \n",
       "1  171.9  107.3  5.28  1.78  \n",
       "2  154.0  139.2  5.23  2.27  \n",
       "3  136.8  115.1  4.96  1.61  \n",
       "4  147.4  123.4  4.76  2.41  \n",
       "\n",
       "[5 rows x 33 columns]"
      ]
     },
     "execution_count": 11,
     "metadata": {},
     "output_type": "execute_result"
    }
   ],
   "source": [
    "pitch_df.head()"
   ]
  },
  {
   "cell_type": "code",
   "execution_count": 12,
   "id": "3701b934-e2c9-4797-924d-940c462363fa",
   "metadata": {},
   "outputs": [
    {
     "data": {
      "text/plain": [
       "(308, 33)"
      ]
     },
     "execution_count": 12,
     "metadata": {},
     "output_type": "execute_result"
    }
   ],
   "source": [
    "pitch_df.shape"
   ]
  },
  {
   "cell_type": "code",
   "execution_count": 13,
   "id": "8971ca12-ad9d-48f1-a289-c51812159dac",
   "metadata": {},
   "outputs": [
    {
     "data": {
      "text/html": [
       "<div>\n",
       "<style scoped>\n",
       "    .dataframe tbody tr th:only-of-type {\n",
       "        vertical-align: middle;\n",
       "    }\n",
       "\n",
       "    .dataframe tbody tr th {\n",
       "        vertical-align: top;\n",
       "    }\n",
       "\n",
       "    .dataframe thead th {\n",
       "        text-align: right;\n",
       "    }\n",
       "</style>\n",
       "<table border=\"1\" class=\"dataframe\">\n",
       "  <thead>\n",
       "    <tr style=\"text-align: right;\">\n",
       "      <th></th>\n",
       "      <th>순</th>\n",
       "      <th>이름</th>\n",
       "      <th>팀</th>\n",
       "      <th>정렬</th>\n",
       "      <th>출장</th>\n",
       "      <th>완투</th>\n",
       "      <th>완봉</th>\n",
       "      <th>선발</th>\n",
       "      <th>승</th>\n",
       "      <th>패</th>\n",
       "      <th>...</th>\n",
       "      <th>보크</th>\n",
       "      <th>폭투</th>\n",
       "      <th>ERA</th>\n",
       "      <th>FIP</th>\n",
       "      <th>WHIP</th>\n",
       "      <th>ERA+</th>\n",
       "      <th>FIP+</th>\n",
       "      <th>WPA</th>\n",
       "      <th>WAR</th>\n",
       "      <th>시즌</th>\n",
       "    </tr>\n",
       "  </thead>\n",
       "  <tbody>\n",
       "    <tr>\n",
       "      <th>0</th>\n",
       "      <td>1</td>\n",
       "      <td>미란다</td>\n",
       "      <td>두</td>\n",
       "      <td>7.09</td>\n",
       "      <td>28</td>\n",
       "      <td>1</td>\n",
       "      <td>1</td>\n",
       "      <td>28</td>\n",
       "      <td>14</td>\n",
       "      <td>5</td>\n",
       "      <td>...</td>\n",
       "      <td>1</td>\n",
       "      <td>7</td>\n",
       "      <td>2.33</td>\n",
       "      <td>2.67</td>\n",
       "      <td>1.14</td>\n",
       "      <td>185.0</td>\n",
       "      <td>161.1</td>\n",
       "      <td>7.09</td>\n",
       "      <td>3.27</td>\n",
       "      <td>21</td>\n",
       "    </tr>\n",
       "    <tr>\n",
       "      <th>1</th>\n",
       "      <td>2</td>\n",
       "      <td>백정현</td>\n",
       "      <td>삼</td>\n",
       "      <td>5.28</td>\n",
       "      <td>27</td>\n",
       "      <td>0</td>\n",
       "      <td>0</td>\n",
       "      <td>27</td>\n",
       "      <td>14</td>\n",
       "      <td>5</td>\n",
       "      <td>...</td>\n",
       "      <td>0</td>\n",
       "      <td>5</td>\n",
       "      <td>2.63</td>\n",
       "      <td>4.21</td>\n",
       "      <td>1.24</td>\n",
       "      <td>171.9</td>\n",
       "      <td>107.3</td>\n",
       "      <td>5.28</td>\n",
       "      <td>1.78</td>\n",
       "      <td>21</td>\n",
       "    </tr>\n",
       "    <tr>\n",
       "      <th>2</th>\n",
       "      <td>3</td>\n",
       "      <td>고영표</td>\n",
       "      <td>K</td>\n",
       "      <td>5.23</td>\n",
       "      <td>26</td>\n",
       "      <td>1</td>\n",
       "      <td>1</td>\n",
       "      <td>25</td>\n",
       "      <td>11</td>\n",
       "      <td>6</td>\n",
       "      <td>...</td>\n",
       "      <td>0</td>\n",
       "      <td>1</td>\n",
       "      <td>2.92</td>\n",
       "      <td>3.19</td>\n",
       "      <td>1.04</td>\n",
       "      <td>154.0</td>\n",
       "      <td>139.2</td>\n",
       "      <td>5.23</td>\n",
       "      <td>2.27</td>\n",
       "      <td>21</td>\n",
       "    </tr>\n",
       "    <tr>\n",
       "      <th>3</th>\n",
       "      <td>4</td>\n",
       "      <td>켈리</td>\n",
       "      <td>L</td>\n",
       "      <td>4.96</td>\n",
       "      <td>30</td>\n",
       "      <td>0</td>\n",
       "      <td>0</td>\n",
       "      <td>30</td>\n",
       "      <td>13</td>\n",
       "      <td>8</td>\n",
       "      <td>...</td>\n",
       "      <td>1</td>\n",
       "      <td>7</td>\n",
       "      <td>3.15</td>\n",
       "      <td>3.76</td>\n",
       "      <td>1.24</td>\n",
       "      <td>136.8</td>\n",
       "      <td>115.1</td>\n",
       "      <td>4.96</td>\n",
       "      <td>1.61</td>\n",
       "      <td>21</td>\n",
       "    </tr>\n",
       "    <tr>\n",
       "      <th>4</th>\n",
       "      <td>5</td>\n",
       "      <td>원태인</td>\n",
       "      <td>삼</td>\n",
       "      <td>4.76</td>\n",
       "      <td>26</td>\n",
       "      <td>0</td>\n",
       "      <td>0</td>\n",
       "      <td>26</td>\n",
       "      <td>14</td>\n",
       "      <td>7</td>\n",
       "      <td>...</td>\n",
       "      <td>1</td>\n",
       "      <td>5</td>\n",
       "      <td>3.06</td>\n",
       "      <td>3.65</td>\n",
       "      <td>1.25</td>\n",
       "      <td>147.4</td>\n",
       "      <td>123.4</td>\n",
       "      <td>4.76</td>\n",
       "      <td>2.41</td>\n",
       "      <td>21</td>\n",
       "    </tr>\n",
       "  </tbody>\n",
       "</table>\n",
       "<p>5 rows × 34 columns</p>\n",
       "</div>"
      ],
      "text/plain": [
       "   순   이름  팀    정렬  출장 완투 완봉  선발   승  패  ... 보크 폭투   ERA   FIP  WHIP   ERA+  \\\n",
       "0  1  미란다  두  7.09  28  1  1  28  14  5  ...  1  7  2.33  2.67  1.14  185.0   \n",
       "1  2  백정현  삼  5.28  27  0  0  27  14  5  ...  0  5  2.63  4.21  1.24  171.9   \n",
       "2  3  고영표  K  5.23  26  1  1  25  11  6  ...  0  1  2.92  3.19  1.04  154.0   \n",
       "3  4   켈리  L  4.96  30  0  0  30  13  8  ...  1  7  3.15  3.76  1.24  136.8   \n",
       "4  5  원태인  삼  4.76  26  0  0  26  14  7  ...  1  5  3.06  3.65  1.25  147.4   \n",
       "\n",
       "    FIP+   WPA   WAR  시즌  \n",
       "0  161.1  7.09  3.27  21  \n",
       "1  107.3  5.28  1.78  21  \n",
       "2  139.2  5.23  2.27  21  \n",
       "3  115.1  4.96  1.61  21  \n",
       "4  123.4  4.76  2.41  21  \n",
       "\n",
       "[5 rows x 34 columns]"
      ]
     },
     "execution_count": 13,
     "metadata": {},
     "output_type": "execute_result"
    }
   ],
   "source": [
    "# 시즌과 팀 이름 분리\n",
    "pitch_df['시즌'] = pitch_df.팀.str[:2]\n",
    "pitch_df['팀'] = pitch_df.팀.str[2:]\n",
    "pitch_df.head()"
   ]
  },
  {
   "cell_type": "code",
   "execution_count": 1,
   "id": "c8c88f16-81e4-447b-abec-2f92f0dce4ee",
   "metadata": {},
   "outputs": [],
   "source": [
    "import selenium\n",
    "from selenium import webdriver\n",
    "from selenium.webdriver.common.keys import Keys\n",
    "from selenium.webdriver.support.ui import Select\n",
    "from selenium.webdriver import ActionChains\n",
    "import time\n",
    "import warnings\n",
    "warnings.filterwarnings('ignore')\n",
    "\n",
    "def crawler(year_xpath):\n",
    "    # Chromedriver 옵션 설정\n",
    "    options = webdriver.ChromeOptions()\n",
    "    options.add_argument(\"headless\")\n",
    "    options.add_argument(\"window-size=976,1056\")\n",
    "\n",
    "    # execute driver & connect page\n",
    "    driver = webdriver.Chrome('./chromedriver', options=options)\n",
    "    driver.get('http://www.statiz.co.kr/stat.php?re=1&lr=0')\n",
    "    time.sleep(3)\n",
    "\n",
    "    # 스크롤을 위한 ActionChains 모듈 선언\n",
    "    action = ActionChains(driver)\n",
    "    \n",
    "    # 연도 옵션 설정\n",
    "    yearbutton = driver.find_element_by_xpath('/html/body/div[1]/div[1]/div/section[2]/div/div[2]/div[1]/div/div[1]/div/button')\n",
    "    time.sleep(2)\n",
    "    yearbutton.click()\n",
    "    \n",
    "    # 연도 지정\n",
    "    time.sleep(2)\n",
    "    year_select = driver.find_element_by_xpath(year_xpath)\n",
    "    driver.execute_script(\"window.scrollTo(0, 200);\") # 광고로 인해 옵션버튼이 가려질 수 있으므로\n",
    "    year_text = year_select.text\n",
    "    year_select.click()\n",
    "    \n",
    "    # 100개씩 정렬하기 위한 옵션설정\n",
    "    optionbutton = driver.find_element_by_xpath('/html/body/div[1]/div[1]/div/section[2]/div/div[2]/div[1]/div/div[8]/button')\n",
    "    driver.execute_script(\"window.scrollTo(0, 100);\") # 광고로 인해 옵션버튼이 가려질 수 있으므로\n",
    "    time.sleep(2)\n",
    "    optionbutton.click()\n",
    "\n",
    "    # 정렬 개수 100개로 설정\n",
    "    print_num = Select(driver.find_element_by_xpath('//*[@id=\"opt_div\"]/div[2]/div[5]/form/select'))\n",
    "    print_num.select_by_value('100')\n",
    "\n",
    "    # 첫번째 다음버튼 선언 (2페이지부터는 '이전'버튼이 생겨 xpath가 바뀜)\n",
    "    if year_text == '21':\n",
    "        first_nextbutton = driver.find_element_by_xpath('/html/body/div[1]/div[1]/div/section[2]/div/div[2]/div[6]/div/div/div[4]/table/tbody/tr/td[2]/a[2]')\n",
    "    else:\n",
    "        first_nextbutton = driver.find_element_by_xpath('/html/body/div[1]/div[1]/div/section[2]/div/div[2]/div[5]/div/div/div[4]/table/tbody/tr/td[2]/a[2]')\n",
    "        \n",
    "    p_list = []\n",
    "    count = 0\n",
    "    while True:\n",
    "        player = driver.find_element_by_id('mytable') # 크롤링 대상인 지표만을 선정\n",
    "        count += 1\n",
    "        for p in player.find_elements_by_tag_name('tr'):\n",
    "            record = p.text\n",
    "            p_list.append(record.split()) # 한 선수마다 하나의 list로 만들어서 저장\n",
    "        driver.execute_script(\"window.scrollTo(0, document.body.scrollHeight);\") # 맨 아래까지 스크롤, 광고로 가려짐을 피하기 위해\n",
    "        if year_text == '21':\n",
    "            nextbutton = driver.find_element_by_xpath('/html/body/div[1]/div[1]/div/section[2]/div/div[2]/div[6]/div/div/div[4]/table/tbody/tr/td[2]/a[3]')\n",
    "        else :\n",
    "            nextbutton = driver.find_element_by_xpath('/html/body/div[1]/div[1]/div/section[2]/div/div[2]/div[5]/div/div/div[4]/table/tbody/tr/td[2]/a[3]')\n",
    "        time.sleep(2)\n",
    "        if count == 1: # 첫 번째 페이지일 때\n",
    "            first_nextbutton.click()\n",
    "            time.sleep(2)\n",
    "        else: # 두 번째 페이지 이상일 때\n",
    "            if nextbutton.text == '마지막':\n",
    "                print(count, '페이지 수집완료.')\n",
    "                break\n",
    "            nextbutton.click()\n",
    "            time.sleep(2)\n",
    "            \n",
    "    return p_list"
   ]
  },
  {
   "cell_type": "code",
   "execution_count": 5,
   "id": "8d351977-cd1d-418c-8569-5b523e2c298c",
   "metadata": {},
   "outputs": [
    {
     "name": "stdout",
     "output_type": "stream",
     "text": [
      "['/html/body/div[1]/div[1]/div/section[2]/div/div[2]/div[1]/div/div[1]/div/ul/div/button[2]', '/html/body/div[1]/div[1]/div/section[2]/div/div[2]/div[1]/div/div[1]/div/ul/div/button[3]', '/html/body/div[1]/div[1]/div/section[2]/div/div[2]/div[1]/div/div[1]/div/ul/div/button[4]', '/html/body/div[1]/div[1]/div/section[2]/div/div[2]/div[1]/div/div[1]/div/ul/div/button[5]', '/html/body/div[1]/div[1]/div/section[2]/div/div[2]/div[1]/div/div[1]/div/ul/div/button[6]', '/html/body/div[1]/div[1]/div/section[2]/div/div[2]/div[1]/div/div[1]/div/ul/div/button[7]', '/html/body/div[1]/div[1]/div/section[2]/div/div[2]/div[1]/div/div[1]/div/ul/div/button[8]', '/html/body/div[1]/div[1]/div/section[2]/div/div[2]/div[1]/div/div[1]/div/ul/div/button[9]', '/html/body/div[1]/div[1]/div/section[2]/div/div[2]/div[1]/div/div[1]/div/ul/div/button[10]', '/html/body/div[1]/div[1]/div/section[2]/div/div[2]/div[1]/div/div[1]/div/ul/div/button[11]', '/html/body/div[1]/div[1]/div/section[2]/div/div[2]/div[1]/div/div[1]/div/ul/div/button[12]', '/html/body/div[1]/div[1]/div/section[2]/div/div[2]/div[1]/div/div[1]/div/ul/div/button[13]', '/html/body/div[1]/div[1]/div/section[2]/div/div[2]/div[1]/div/div[1]/div/ul/div/button[14]', '/html/body/div[1]/div[1]/div/section[2]/div/div[2]/div[1]/div/div[1]/div/ul/div/button[15]', '/html/body/div[1]/div[1]/div/section[2]/div/div[2]/div[1]/div/div[1]/div/ul/div/button[16]', '/html/body/div[1]/div[1]/div/section[2]/div/div[2]/div[1]/div/div[1]/div/ul/div/button[17]', '/html/body/div[1]/div[1]/div/section[2]/div/div[2]/div[1]/div/div[1]/div/ul/div/button[18]', '/html/body/div[1]/div[1]/div/section[2]/div/div[2]/div[1]/div/div[1]/div/ul/div/button[19]', '/html/body/div[1]/div[1]/div/section[2]/div/div[2]/div[1]/div/div[1]/div/ul/div/button[20]', '/html/body/div[1]/div[1]/div/section[2]/div/div[2]/div[1]/div/div[1]/div/ul/div/button[21]', '/html/body/div[1]/div[1]/div/section[2]/div/div[2]/div[1]/div/div[1]/div/ul/div/button[22]', '/html/body/div[1]/div[1]/div/section[2]/div/div[2]/div[1]/div/div[1]/div/ul/div/button[23]', '/html/body/div[1]/div[1]/div/section[2]/div/div[2]/div[1]/div/div[1]/div/ul/div/button[24]', '/html/body/div[1]/div[1]/div/section[2]/div/div[2]/div[1]/div/div[1]/div/ul/div/button[25]', '/html/body/div[1]/div[1]/div/section[2]/div/div[2]/div[1]/div/div[1]/div/ul/div/button[26]', '/html/body/div[1]/div[1]/div/section[2]/div/div[2]/div[1]/div/div[1]/div/ul/div/button[27]', '/html/body/div[1]/div[1]/div/section[2]/div/div[2]/div[1]/div/div[1]/div/ul/div/button[28]', '/html/body/div[1]/div[1]/div/section[2]/div/div[2]/div[1]/div/div[1]/div/ul/div/button[29]', '/html/body/div[1]/div[1]/div/section[2]/div/div[2]/div[1]/div/div[1]/div/ul/div/button[30]', '/html/body/div[1]/div[1]/div/section[2]/div/div[2]/div[1]/div/div[1]/div/ul/div/button[31]', '/html/body/div[1]/div[1]/div/section[2]/div/div[2]/div[1]/div/div[1]/div/ul/div/button[32]', '/html/body/div[1]/div[1]/div/section[2]/div/div[2]/div[1]/div/div[1]/div/ul/div/button[33]', '/html/body/div[1]/div[1]/div/section[2]/div/div[2]/div[1]/div/div[1]/div/ul/div/button[34]', '/html/body/div[1]/div[1]/div/section[2]/div/div[2]/div[1]/div/div[1]/div/ul/div/button[35]', '/html/body/div[1]/div[1]/div/section[2]/div/div[2]/div[1]/div/div[1]/div/ul/div/button[36]', '/html/body/div[1]/div[1]/div/section[2]/div/div[2]/div[1]/div/div[1]/div/ul/div/button[37]', '/html/body/div[1]/div[1]/div/section[2]/div/div[2]/div[1]/div/div[1]/div/ul/div/button[38]', '/html/body/div[1]/div[1]/div/section[2]/div/div[2]/div[1]/div/div[1]/div/ul/div/button[39]', '/html/body/div[1]/div[1]/div/section[2]/div/div[2]/div[1]/div/div[1]/div/ul/div/button[40]', '/html/body/div[1]/div[1]/div/section[2]/div/div[2]/div[1]/div/div[1]/div/ul/div/button[41]']\n"
     ]
    }
   ],
   "source": [
    "# 82년도부터 21년도까지의 xpath 주소\n",
    "xpath_list = []\n",
    "\n",
    "for i in range(2, 42):\n",
    "    xpath_list.append('/html/body/div[1]/div[1]/div/section[2]/div/div[2]/div[1]/div/div[1]/div/ul/div/button[{0}]'.format(i))"
   ]
  },
  {
   "cell_type": "code",
   "execution_count": 3,
   "id": "92ec27e7-9174-4e21-8296-8b4ccbcc6c62",
   "metadata": {},
   "outputs": [
    {
     "name": "stdout",
     "output_type": "stream",
     "text": [
      "3 페이지 수집완료.\n",
      "3 페이지 수집완료.\n",
      "3 페이지 수집완료.\n",
      "3 페이지 수집완료.\n",
      "3 페이지 수집완료.\n",
      "3 페이지 수집완료.\n",
      "3 페이지 수집완료.\n",
      "4 페이지 수집완료.\n"
     ]
    }
   ],
   "source": [
    "crawling_list = []\n",
    "\n",
    "for x in xpath_list:\n",
    "    crawling_list.append(crawler(x))"
   ]
  },
  {
   "cell_type": "code",
   "execution_count": 4,
   "id": "b85618ae-4180-4c5b-a729-7fe7baa7eef5",
   "metadata": {},
   "outputs": [],
   "source": [
    "import numpy as np\n",
    "import pandas as pd\n",
    "\n",
    "def data_clear(crawling_list) :\n",
    "    # 10명의 기록마다 컬럼명이 새로 생기므로 이를 없애줌\n",
    "    while True:\n",
    "        try:\n",
    "            crawling_list.remove(['순', '이름', '팀', '정렬', '출장', '완투', '완봉', '선발', '승', '패', '세', '홀드', '이닝', '실점', '자책', '타자', '안타', '2타', '3타', '홈런', '볼넷', '고4', '사구', '삼진', '보크', '폭투', '비율', 'WAR', 'WPA'])\n",
    "            crawling_list.remove(['WAR', 'ERA', 'FIP', 'WHIP', 'ERA+', 'FIP+'])\n",
    "        except:\n",
    "            print('삭제완료')\n",
    "            break\n",
    "        \n",
    "    \n",
    "    remove_list = []\n",
    "    \n",
    "    for c in crawling_list:\n",
    "        if len(c) < 33:\n",
    "            remove_list.append(c)\n",
    "            \n",
    "    for r in remove_list:\n",
    "        crawling_list.remove(r)\n",
    "        \n",
    "    # dataframe에 사용할 컬럼명 list로 선언\n",
    "    record_col = ['순', '이름', '팀', '정렬', '출장', '완투', '완봉', '선발', '승', '패', '세', '홀드', '이닝', '실점', '자책', '타자', '안타', '2타', '3타', '홈런', '볼넷', '고4', '사구', '삼진', '보크', '폭투', 'ERA', 'FIP', 'WHIP', 'ERA+', 'FIP+', 'WPA', 'WAR']\n",
    "    \n",
    "    # 컬럼만 있는 빈 데이터프레임 생성\n",
    "    pitch_df = pd.DataFrame(columns=record_col)\n",
    "    \n",
    "    # 각 선수들의 기록을 행 형태로 삽입하기 위하여 Series 형태로 변환 뒤 df에 삽입\n",
    "    for c in crawling_list:\n",
    "        pitch_df = pitch_df.append(pd.Series(c, index=pitch_df.columns), ignore_index=True)\n",
    "        \n",
    "    # 시즌과 팀 이름 분리\n",
    "    pitch_df['시즌'] = pitch_df.팀.str[:2]\n",
    "    pitch_df['팀'] = pitch_df.팀.str[2:]\n",
    "    \n",
    "    return pitch_df"
   ]
  },
  {
   "cell_type": "code",
   "execution_count": 6,
   "id": "f07e8ca6-62de-45d7-b8bc-58865d08e736",
   "metadata": {},
   "outputs": [],
   "source": [
    "# dataframe에 사용할 컬럼명 list로 선언\n",
    "record_col = ['순', '이름', '팀', '정렬', '출장', '완투', '완봉', '선발', '승', '패', '세', '홀드', '이닝', '실점', '자책', '타자', '안타', '2타', '3타', '홈런', '볼넷', '고4', '사구', '삼진', '보크', '폭투', 'ERA', 'FIP', 'WHIP', 'ERA+', 'FIP+', 'WPA', 'WAR']"
   ]
  },
  {
   "cell_type": "code",
   "execution_count": 7,
   "id": "57c62bd0-e9fd-4481-930e-599c351122d6",
   "metadata": {},
   "outputs": [
    {
     "data": {
      "text/html": [
       "<div>\n",
       "<style scoped>\n",
       "    .dataframe tbody tr th:only-of-type {\n",
       "        vertical-align: middle;\n",
       "    }\n",
       "\n",
       "    .dataframe tbody tr th {\n",
       "        vertical-align: top;\n",
       "    }\n",
       "\n",
       "    .dataframe thead th {\n",
       "        text-align: right;\n",
       "    }\n",
       "</style>\n",
       "<table border=\"1\" class=\"dataframe\">\n",
       "  <thead>\n",
       "    <tr style=\"text-align: right;\">\n",
       "      <th></th>\n",
       "      <th>순</th>\n",
       "      <th>이름</th>\n",
       "      <th>팀</th>\n",
       "      <th>정렬</th>\n",
       "      <th>출장</th>\n",
       "      <th>완투</th>\n",
       "      <th>완봉</th>\n",
       "      <th>선발</th>\n",
       "      <th>승</th>\n",
       "      <th>패</th>\n",
       "      <th>...</th>\n",
       "      <th>삼진</th>\n",
       "      <th>보크</th>\n",
       "      <th>폭투</th>\n",
       "      <th>ERA</th>\n",
       "      <th>FIP</th>\n",
       "      <th>WHIP</th>\n",
       "      <th>ERA+</th>\n",
       "      <th>FIP+</th>\n",
       "      <th>WPA</th>\n",
       "      <th>WAR</th>\n",
       "    </tr>\n",
       "  </thead>\n",
       "  <tbody>\n",
       "  </tbody>\n",
       "</table>\n",
       "<p>0 rows × 33 columns</p>\n",
       "</div>"
      ],
      "text/plain": [
       "Empty DataFrame\n",
       "Columns: [순, 이름, 팀, 정렬, 출장, 완투, 완봉, 선발, 승, 패, 세, 홀드, 이닝, 실점, 자책, 타자, 안타, 2타, 3타, 홈런, 볼넷, 고4, 사구, 삼진, 보크, 폭투, ERA, FIP, WHIP, ERA+, FIP+, WPA, WAR]\n",
       "Index: []\n",
       "\n",
       "[0 rows x 33 columns]"
      ]
     },
     "execution_count": 7,
     "metadata": {},
     "output_type": "execute_result"
    }
   ],
   "source": [
    "import pandas as pd\n",
    "\n",
    "# 컬럼만 있는 빈 데이터프레임 생성\n",
    "pitch_df = pd.DataFrame(columns=record_col)\n",
    "pitch_df"
   ]
  },
  {
   "cell_type": "code",
   "execution_count": 8,
   "id": "4a5adc33-5cc2-4f9a-bffc-d6743072ec28",
   "metadata": {},
   "outputs": [
    {
     "name": "stdout",
     "output_type": "stream",
     "text": [
      "삭제완료\n",
      "삭제완료\n",
      "삭제완료\n",
      "삭제완료\n",
      "삭제완료\n",
      "삭제완료\n",
      "삭제완료\n",
      "삭제완료\n"
     ]
    }
   ],
   "source": [
    "for c in crawling_list:\n",
    "    df = data_clear(c)\n",
    "    pitch_df = pd.concat([pitch_df, df])"
   ]
  },
  {
   "cell_type": "code",
   "execution_count": 26,
   "id": "856d8b3f-397c-4423-a9dc-94be1945f7e0",
   "metadata": {},
   "outputs": [],
   "source": [
    "pitch_df = pitch_df.astype({'이닝':'float'})"
   ]
  },
  {
   "cell_type": "code",
   "execution_count": 12,
   "id": "99aff6fa-7267-4bd6-9692-d807fb7e345e",
   "metadata": {},
   "outputs": [
    {
     "data": {
      "text/plain": [
       "Index(['순', '이름', '팀', '정렬', '출장', '완투', '완봉', '선발', '승', '패', '세', '홀드', '이닝',\n",
       "       '실점', '자책', '타자', '안타', '2타', '3타', '홈런', '볼넷', '고4', '사구', '삼진', '보크',\n",
       "       '폭투', 'ERA', 'FIP', 'WHIP', 'ERA+', 'FIP+', 'WPA', 'WAR', '시즌'],\n",
       "      dtype='object')"
      ]
     },
     "execution_count": 12,
     "metadata": {},
     "output_type": "execute_result"
    }
   ],
   "source": [
    "pitch_df.columns"
   ]
  },
  {
   "cell_type": "markdown",
   "id": "f6e19f47-a547-49ef-9703-a02c297998fd",
   "metadata": {
    "tags": []
   },
   "source": [
    "---\n",
    "## 2월 5일 칼럼 - [KBO] 투수 규정이닝을 낮춰야 할까?\n",
    "- https://minding-deep-learning.tistory.com/96"
   ]
  },
  {
   "cell_type": "code",
   "execution_count": 41,
   "id": "addf6cf9-a8aa-4531-bfee-b7f7779a4b87",
   "metadata": {},
   "outputs": [
    {
     "name": "stdout",
     "output_type": "stream",
     "text": [
      "18\n",
      "20\n",
      "17\n",
      "19\n",
      "25\n",
      "27\n",
      "20\n",
      "19\n"
     ]
    }
   ],
   "source": [
    "pitch_list = [pitch_14, pitch_15, pitch_16, pitch_17, pitch_18, pitch_19, pitch_20, pitch_21]\n",
    "\n",
    "for p in pitch_list:\n",
    "    print(p[p['이닝'] >= 144].shape[0])"
   ]
  },
  {
   "cell_type": "code",
   "execution_count": 3,
   "id": "bbd608cf-3805-47c6-84bb-6a81dc7ad8de",
   "metadata": {},
   "outputs": [],
   "source": [
    "import matplotlib.pyplot as plt\n",
    "%matplotlib inline"
   ]
  },
  {
   "cell_type": "code",
   "execution_count": 27,
   "id": "45440a3c-2bb4-411e-938b-a088e6e4681e",
   "metadata": {},
   "outputs": [
    {
     "data": {
      "image/png": "[encoded data removed]",
      "text/plain": [
       "<Figure size 432x288 with 1 Axes>"
      ]
     },
     "metadata": {
      "needs_background": "light"
     },
     "output_type": "display_data"
    }
   ],
   "source": [
    "x = range(2000, 2022)\n",
    "y = qualified[18:]\n",
    "graph = plt.plot(x, y, marker='o')\n",
    "plt.ylim(10, 40)\n",
    "plt.title('Qualified Pitcher in KBO (2000 ~)')\n",
    "# plt.figure(figsize=(10,6))\n",
    "\n",
    "for i in range(len(x)):\n",
    "    height = y[i]\n",
    "    plt.text(x[i], height+0.3, '%.0f' %height, ha='center', va='bottom', size=9)\n",
    "\n",
    "plt.show()"
   ]
  },
  {
   "cell_type": "code",
   "execution_count": 16,
   "id": "a0025281-8229-4423-a25b-6f6fc18c174c",
   "metadata": {},
   "outputs": [
    {
     "data": {
      "image/png": "[encoded data removed]",
      "text/plain": [
       "<Figure size 432x288 with 1 Axes>"
      ]
     },
     "metadata": {
      "needs_background": "light"
     },
     "output_type": "display_data"
    }
   ],
   "source": [
    "x = range(1982, 2022)\n",
    "y = korean\n",
    "graph = plt.plot(x, y, marker='o')\n",
    "plt.ylim(0, 40)\n",
    "plt.title('Qualified Pitcher in KBO (Korean)')\n",
    "\n",
    "plt.show()"
   ]
  },
  {
   "cell_type": "code",
   "execution_count": 40,
   "id": "474833ea-495c-45a7-a6cc-b7577f5dfb78",
   "metadata": {},
   "outputs": [
    {
     "data": {
      "image/png": "[encoded data removed]",
      "text/plain": [
       "<Figure size 432x288 with 1 Axes>"
      ]
     },
     "metadata": {
      "needs_background": "light"
     },
     "output_type": "display_data"
    }
   ],
   "source": [
    "bar = plt.bar(range(len(foreign[18:])), foreign[18:])\n",
    "bar = plt.bar(range(len(korean[18:])), korean[18:], bottom=foreign[18:])\n",
    "plt.ylim(0, 40)\n",
    "plt.title('Korean Ratio in Qualified Pitcher')\n",
    "plt.legend(['foreigner', 'korean'])\n",
    "\n",
    "plt.show()"
   ]
  },
  {
   "cell_type": "code",
   "execution_count": 1,
   "id": "a4395bde-29c8-4780-b425-6acbb66fcc4e",
   "metadata": {},
   "outputs": [],
   "source": [
    "qualified = [28, 23, 26, 28, 27, 25, 31, 22, 25, 33, 27, 34, 27, 25, 26, 24, 31, 21, 19, 23, 22, 14, 20, 15, 26, 20, 17, 16, 15, 16, 22, 25, 23, 20, 17, 19, 25, 27, 20, 19]"
   ]
  },
  {
   "cell_type": "code",
   "execution_count": 2,
   "id": "6f30f533-0cc6-4528-9bf0-1a077ceb9035",
   "metadata": {},
   "outputs": [],
   "source": [
    "# 00년부터 외국인투수\n",
    "foreign = [0,0,0,0,0,0,0,0,0,0,0,0,0,0,0,0,0,0,3, 5, 7, 5, 5, 4, 6, 7, 3, 3, 5, 6, 10, 13, 10, 13, 10, 10, 15, 15, 14, 11]"
   ]
  },
  {
   "cell_type": "code",
   "execution_count": 39,
   "id": "95db7eb1-9681-4a6e-8aa0-7861d66420bd",
   "metadata": {},
   "outputs": [],
   "source": [
    "korean = []\n",
    "\n",
    "for i in range(len(qualified)):\n",
    "    korean.append(qualified[i] - foreign[i])"
   ]
  },
  {
   "cell_type": "code",
   "execution_count": 41,
   "id": "06e0138e-2dfb-4dff-b415-b996b5865e89",
   "metadata": {},
   "outputs": [
    {
     "name": "stdout",
     "output_type": "stream",
     "text": [
      "[28, 23, 26, 28, 27, 25, 31, 22, 25, 33, 27, 34, 27, 25, 26, 24, 31, 21, 16, 18, 15, 9, 15, 11, 20, 13, 14, 13, 10, 10, 12, 12, 13, 7, 7, 9, 10, 12, 6, 8]\n"
     ]
    }
   ],
   "source": [
    "print(korean)"
   ]
  },
  {
   "cell_type": "code",
   "execution_count": 26,
   "id": "1128b109-32d9-4868-8e1f-2e81ad53709d",
   "metadata": {},
   "outputs": [
    {
     "data": {
      "text/plain": [
       "26.833333333333332"
      ]
     },
     "execution_count": 26,
     "metadata": {},
     "output_type": "execute_result"
    }
   ],
   "source": [
    "import numpy as np\n",
    "\n",
    "np.mean(qualified[:18])"
   ]
  },
  {
   "cell_type": "markdown",
   "id": "b6b7d3ca-2a7c-4210-b268-2a7069181f25",
   "metadata": {},
   "source": [
    "---\n",
    "## 2월 12일 칼럼 - KBO 명예의 전당에 헌액될 선수는 누구일까?\n",
    "- https://minding-deep-learning.tistory.com/97?category=1037020"
   ]
  },
  {
   "cell_type": "markdown",
   "id": "5c8b983c-bd3e-44b4-ab5b-9257c2762658",
   "metadata": {},
   "source": [
    "### 1. 데이터 수집 및 정제"
   ]
  },
  {
   "cell_type": "code",
   "execution_count": 1,
   "id": "76f634de-f228-483d-a472-88116f33074b",
   "metadata": {},
   "outputs": [],
   "source": [
    "import pandas as pd\n",
    "import numpy as np\n",
    "import selenium\n",
    "from selenium import webdriver\n",
    "from selenium.webdriver.common.keys import Keys\n",
    "from selenium.webdriver.support.ui import Select\n",
    "from selenium.webdriver import ActionChains\n",
    "import time\n",
    "import warnings\n",
    "warnings.filterwarnings('ignore')"
   ]
  },
  {
   "cell_type": "code",
   "execution_count": 2,
   "id": "58e1ed36-c153-42cb-96cf-f67f4e06bcfe",
   "metadata": {},
   "outputs": [],
   "source": [
    "# 82년도부터 21년도까지의 xpath 주소\n",
    "xpath_list = []\n",
    "\n",
    "for i in range(2, 42):\n",
    "    xpath_list.append('/html/body/div[1]/div[1]/div/section[2]/div/div[2]/div[1]/div/div[1]/div/ul/div/button[{0}]'.format(i))"
   ]
  },
  {
   "cell_type": "code",
   "execution_count": 3,
   "id": "2f8dbedb-d2ce-4c1d-82b7-357d834ec00d",
   "metadata": {},
   "outputs": [],
   "source": [
    "def crawler(page_address, year_xpath):\n",
    "    # Chromedriver 옵션 설정\n",
    "    options = webdriver.ChromeOptions()\n",
    "    options.add_argument(\"headless\")\n",
    "    options.add_argument(\"window-size=976,1056\")\n",
    "\n",
    "    # execute driver & connect page\n",
    "    driver = webdriver.Chrome('./chromedriver', options=options)\n",
    "    driver.get(page_address)\n",
    "    time.sleep(3)\n",
    "\n",
    "    # 스크롤을 위한 ActionChains 모듈 선언\n",
    "    action = ActionChains(driver)\n",
    "    \n",
    "    # 연도 옵션 설정\n",
    "    yearbutton = driver.find_element_by_xpath('/html/body/div[1]/div[1]/div/section[2]/div/div[2]/div[1]/div/div[1]/div/button')\n",
    "    time.sleep(2)\n",
    "    yearbutton.click()\n",
    "    \n",
    "    # 연도 지정\n",
    "    time.sleep(2)\n",
    "    year_select = driver.find_element_by_xpath(year_xpath)\n",
    "    driver.execute_script(\"window.scrollTo(0, 200);\") # 광고로 인해 옵션버튼이 가려질 수 있으므로\n",
    "    year_text = year_select.text\n",
    "    year_select.click()\n",
    "    \n",
    "    # 100개씩 정렬하기 위한 옵션설정\n",
    "    # optionbutton = driver.find_element_by_xpath('/html/body/div[1]/div[1]/div/section[2]/div/div[2]/div[1]/div/div[8]/button')\n",
    "    # driver.execute_script(\"window.scrollTo(0, 100);\") # 광고로 인해 옵션버튼이 가려질 수 있으므로\n",
    "    # time.sleep(2)\n",
    "    # optionbutton.click()\n",
    "\n",
    "    # 정렬 개수 100개로 설정\n",
    "    # print_num = Select(driver.find_element_by_xpath('//*[@id=\"opt_div\"]/div[2]/div[5]/form/select'))\n",
    "    # print_num.select_by_value('100')\n",
    "\n",
    "    # 첫번째 다음버튼 선언 (2페이지부터는 '이전'버튼이 생겨 xpath가 바뀜)\n",
    "    if year_text == '21':\n",
    "        first_nextbutton = driver.find_element_by_xpath('/html/body/div[1]/div[1]/div/section[2]/div/div[2]/div[6]/div/div/div[4]/table/tbody/tr/td[2]/a[2]')\n",
    "    else:\n",
    "        first_nextbutton = driver.find_element_by_xpath('/html/body/div[1]/div[1]/div/section[2]/div/div[2]/div[5]/div/div/div[4]/table/tbody/tr/td[2]/a[2]')\n",
    "        \n",
    "    p_list = []\n",
    "    count = 0\n",
    "    while True:\n",
    "        player = driver.find_element_by_id('mytable') # 크롤링 대상인 지표만을 선정\n",
    "        count += 1\n",
    "        for p in player.find_elements_by_tag_name('tr'):\n",
    "            record = p.text\n",
    "            p_list.append(record.split()) # 한 선수마다 하나의 list로 만들어서 저장\n",
    "        driver.execute_script(\"window.scrollTo(0, document.body.scrollHeight);\") # 맨 아래까지 스크롤, 광고로 가려짐을 피하기 위해\n",
    "        if year_text == '21':\n",
    "            nextbutton = driver.find_element_by_xpath('/html/body/div[1]/div[1]/div/section[2]/div/div[2]/div[6]/div/div/div[4]/table/tbody/tr/td[2]/a[3]')\n",
    "        else :\n",
    "            nextbutton = driver.find_element_by_xpath('/html/body/div[1]/div[1]/div/section[2]/div/div[2]/div[5]/div/div/div[4]/table/tbody/tr/td[2]/a[3]')\n",
    "        time.sleep(2)\n",
    "        if count == 1: # 첫 번째 페이지일 때\n",
    "            first_nextbutton.click()\n",
    "            time.sleep(2)\n",
    "        else: # 두 번째 페이지 이상일 때\n",
    "            if nextbutton.text == '마지막':\n",
    "                print(count, '페이지 수집완료.')\n",
    "                break\n",
    "            nextbutton.click()\n",
    "            time.sleep(2)\n",
    "            \n",
    "    return p_list"
   ]
  },
  {
   "cell_type": "code",
   "execution_count": 5,
   "id": "35310147-12be-4155-a04a-6a7fbed257dd",
   "metadata": {},
   "outputs": [],
   "source": [
    "def pitch_data_clear(crawling_list) :\n",
    "    # 10명의 기록마다 컬럼명이 새로 생기므로 이를 없애줌\n",
    "    while True:\n",
    "        try:\n",
    "            crawling_list.remove(['순', '이름', '팀', '정렬', '출장', '완투', '완봉', '선발', '승', '패', '세', '홀드', '이닝', '실점', '자책', '타자', '안타', '2타', '3타', '홈런', '볼넷', '고4', '사구', '삼진', '보크', '폭투', '비율', 'WAR', 'WPA'])\n",
    "            crawling_list.remove(['WAR', 'ERA', 'FIP', 'WHIP', 'ERA+', 'FIP+'])\n",
    "        except:\n",
    "            break\n",
    "        \n",
    "    \n",
    "    data_list = []\n",
    "    \n",
    "    for c in crawling_list:\n",
    "        data_list.append(c[:17])\n",
    "        \n",
    "    # dataframe에 사용할 컬럼명 list로 선언\n",
    "    record_col = ['순', '이름', '팀', '정렬', '출장', '완투', '완봉', '선발', '승', '패', '세', '홀드', '이닝', '실점', '자책', '타자', '안타']\n",
    "    \n",
    "    # 컬럼만 있는 빈 데이터프레임 생성\n",
    "    pitch_df = pd.DataFrame(columns=record_col)\n",
    "    \n",
    "    # 각 선수들의 기록을 행 형태로 삽입하기 위하여 Series 형태로 변환 뒤 df에 삽입\n",
    "    for d in data_list:\n",
    "        pitch_df = pitch_df.append(pd.Series(d, index=pitch_df.columns), ignore_index=True)\n",
    "        \n",
    "    # 시즌과 팀 이름 분리\n",
    "    # pitch_df['시즌'] = pitch_df.팀.str[:2]\n",
    "    # pitch_df['팀'] = pitch_df.팀.str[2:]\n",
    "    \n",
    "    return pitch_df"
   ]
  },
  {
   "cell_type": "code",
   "execution_count": 6,
   "id": "19557377-2435-47ea-8b1f-b95fc48c9f78",
   "metadata": {},
   "outputs": [],
   "source": [
    "def bat_data_clear(crawling_list) :\n",
    "    # 10명의 기록마다 컬럼명이 새로 생기므로 이를 없애줌\n",
    "    while True:\n",
    "        try:\n",
    "            crawling_list.remove(['순', '이름', '팀', '정렬', 'G', '타석', '타수', '득점', '안타', '2타', '3타', '홈런', '루타', '타점', '도루', '도실', '볼넷', '사구', '고4', '삼진', '병살', '희타', '희비', '비율', 'WAR*', 'WPA'])\n",
    "            crawling_list.remove(['WAR*', '타율', '출루', '장타', 'OPS', 'wOBA', 'wRC+'])\n",
    "        except:\n",
    "            break\n",
    "        \n",
    "    \n",
    "    data_list = []\n",
    "    \n",
    "    for c in crawling_list:\n",
    "        data_list.append(c[:23])\n",
    "        \n",
    "    # dataframe에 사용할 컬럼명 list로 선언\n",
    "    record_col = ['순', '이름', '팀', '정렬', 'G', '타석', '타수', '득점', '안타', '2타', '3타', '홈런', '루타', '타점', '도루', '도실', '볼넷', '사구', '고4', '삼진', '병살', '희타', '희비']\n",
    "    \n",
    "    # 컬럼만 있는 빈 데이터프레임 생성\n",
    "    pitch_df = pd.DataFrame(columns=record_col)\n",
    "    \n",
    "    # 각 선수들의 기록을 행 형태로 삽입하기 위하여 Series 형태로 변환 뒤 df에 삽입\n",
    "    for d in data_list:\n",
    "        pitch_df = pitch_df.append(pd.Series(d, index=pitch_df.columns), ignore_index=True)\n",
    "        \n",
    "    # 시즌과 팀 이름 분리\n",
    "    # pitch_df['시즌'] = pitch_df.팀.str[:2]\n",
    "    # pitch_df['팀'] = pitch_df.팀.str[2:]\n",
    "    \n",
    "    return pitch_df"
   ]
  },
  {
   "cell_type": "code",
   "execution_count": 8,
   "id": "57322348-a27f-4a62-8787-10c49e9c3b76",
   "metadata": {
    "scrolled": true,
    "tags": []
   },
   "outputs": [
    {
     "name": "stdout",
     "output_type": "stream",
     "text": [
      "2 페이지 수집완료.\n",
      "2 페이지 수집완료.\n",
      "2 페이지 수집완료.\n",
      "3 페이지 수집완료.\n",
      "3 페이지 수집완료.\n",
      "3 페이지 수집완료.\n",
      "4 페이지 수집완료.\n",
      "4 페이지 수집완료.\n",
      "4 페이지 수집완료.\n",
      "5 페이지 수집완료.\n",
      "5 페이지 수집완료.\n",
      "5 페이지 수집완료.\n",
      "5 페이지 수집완료.\n",
      "5 페이지 수집완료.\n",
      "5 페이지 수집완료.\n",
      "5 페이지 수집완료.\n",
      "5 페이지 수집완료.\n",
      "6 페이지 수집완료.\n",
      "6 페이지 수집완료.\n",
      "6 페이지 수집완료.\n",
      "6 페이지 수집완료.\n",
      "6 페이지 수집완료.\n",
      "6 페이지 수집완료.\n",
      "6 페이지 수집완료.\n",
      "6 페이지 수집완료.\n",
      "6 페이지 수집완료.\n",
      "7 페이지 수집완료.\n",
      "7 페이지 수집완료.\n",
      "7 페이지 수집완료.\n",
      "7 페이지 수집완료.\n",
      "7 페이지 수집완료.\n",
      "7 페이지 수집완료.\n",
      "8 페이지 수집완료.\n",
      "9 페이지 수집완료.\n",
      "9 페이지 수집완료.\n",
      "8 페이지 수집완료.\n",
      "9 페이지 수집완료.\n",
      "9 페이지 수집완료.\n",
      "10 페이지 수집완료.\n",
      "11 페이지 수집완료.\n"
     ]
    }
   ],
   "source": [
    "# dataframe에 사용할 컬럼명 list로 선언 (투수)\n",
    "record_col = ['순', '이름', '팀', '정렬', '출장', '완투', '완봉', '선발', '승', '패', '세', '홀드', '이닝', '실점', '자책', '타자', '안타']\n",
    "\n",
    "# 컬럼만 있는 빈 데이터프레임 생성\n",
    "pitch_df = pd.DataFrame(columns=record_col)\n",
    "pitch_df\n",
    "\n",
    "for x in xpath_list:\n",
    "    crawling_list = crawler('http://www.statiz.co.kr/stat.php?re=1&lr=0', x)\n",
    "    df = pitch_data_clear(crawling_list)\n",
    "    pitch_df = pd.concat([pitch_df, df])\n",
    "    \n",
    "pitch_df.to_csv('pitch82_21.csv')"
   ]
  },
  {
   "cell_type": "code",
   "execution_count": 9,
   "id": "11e4be6b-8fe8-46d9-80bd-22186b1fea3f",
   "metadata": {
    "scrolled": true,
    "tags": []
   },
   "outputs": [
    {
     "name": "stdout",
     "output_type": "stream",
     "text": [
      "4 페이지 수집완료.\n",
      "4 페이지 수집완료.\n",
      "5 페이지 수집완료.\n",
      "5 페이지 수집완료.\n",
      "6 페이지 수집완료.\n",
      "6 페이지 수집완료.\n",
      "6 페이지 수집완료.\n",
      "7 페이지 수집완료.\n",
      "7 페이지 수집완료.\n",
      "8 페이지 수집완료.\n",
      "8 페이지 수집완료.\n",
      "8 페이지 수집완료.\n",
      "8 페이지 수집완료.\n",
      "8 페이지 수집완료.\n",
      "8 페이지 수집완료.\n",
      "8 페이지 수집완료.\n",
      "7 페이지 수집완료.\n",
      "7 페이지 수집완료.\n",
      "7 페이지 수집완료.\n",
      "8 페이지 수집완료.\n",
      "8 페이지 수집완료.\n",
      "8 페이지 수집완료.\n",
      "8 페이지 수집완료.\n",
      "7 페이지 수집완료.\n",
      "7 페이지 수집완료.\n",
      "10 페이지 수집완료.\n",
      "10 페이지 수집완료.\n",
      "10 페이지 수집완료.\n",
      "9 페이지 수집완료.\n",
      "9 페이지 수집완료.\n",
      "10 페이지 수집완료.\n",
      "9 페이지 수집완료.\n",
      "11 페이지 수집완료.\n",
      "13 페이지 수집완료.\n",
      "13 페이지 수집완료.\n",
      "12 페이지 수집완료.\n",
      "12 페이지 수집완료.\n",
      "12 페이지 수집완료.\n",
      "13 페이지 수집완료.\n",
      "14 페이지 수집완료.\n"
     ]
    }
   ],
   "source": [
    "# dataframe에 사용할 컬럼명 list로 선언 (투수)\n",
    "record_col = ['순', '이름', '팀', '정렬', 'G', '타석', '타수', '득점', '안타', '2타', '3타', '홈런', '루타', '타점', '도루', '도실', '볼넷', '사구', '고4', '삼진', '병살', '희타', '희비']\n",
    "\n",
    "# 컬럼만 있는 빈 데이터프레임 생성\n",
    "bat_df = pd.DataFrame(columns=record_col)\n",
    "bat_df\n",
    "\n",
    "for x in xpath_list:\n",
    "    crawling_list = crawler('http://www.statiz.co.kr/stat.php?re=0&lr=0', x)\n",
    "    df = bat_data_clear(crawling_list)\n",
    "    bat_df = pd.concat([bat_df, df])\n",
    "    \n",
    "bat_df.to_csv('bat82_21.csv')"
   ]
  },
  {
   "cell_type": "code",
   "execution_count": 38,
   "id": "f0732b89-e776-4ac4-a3ab-1334f0b13148",
   "metadata": {},
   "outputs": [],
   "source": [
    "pitch_df = pd.read_csv('pitch82_21.csv')\n",
    "bat_df = pd.read_csv('bat82_21.csv')"
   ]
  },
  {
   "cell_type": "markdown",
   "id": "66eae7e5-e19b-4019-be03-4fbf53f1fc6d",
   "metadata": {},
   "source": [
    "## 3. JAWS"
   ]
  },
  {
   "cell_type": "code",
   "execution_count": 19,
   "id": "1a542358-2a6a-432c-b390-fc5268c6994f",
   "metadata": {},
   "outputs": [],
   "source": [
    "pitch_grouped = pitch_df['정렬'].groupby(pitch_df['이름'])\n",
    "pitch_season_count = pd.DataFrame(pitch_grouped.count())\n",
    "pitch_over10y_player = pitch_season_count[pitch_season_count['정렬'] >= 7]"
   ]
  },
  {
   "cell_type": "code",
   "execution_count": 27,
   "id": "113af4e5-6667-4abe-8163-4ac07dc808ac",
   "metadata": {},
   "outputs": [],
   "source": [
    "bat_grouped = bat_df['정렬'].groupby(bat_df['이름'])\n",
    "bat_season_count = pd.DataFrame(bat_grouped.count())\n",
    "bat_over10y_player = bat_season_count[bat_season_count['정렬'] >= 7]"
   ]
  },
  {
   "cell_type": "code",
   "execution_count": 28,
   "id": "64385ebe-90c4-475b-8bcc-c0579ef7eb44",
   "metadata": {},
   "outputs": [],
   "source": [
    "pitch_over10y_list = list(pitch_over10y_player.index)\n",
    "bat_over10y_list = list(bat_over10y_player.index)"
   ]
  },
  {
   "cell_type": "code",
   "execution_count": 29,
   "id": "8683c8a6-9f2a-41b4-9065-b63dbdbaa2b9",
   "metadata": {},
   "outputs": [],
   "source": [
    "record_col = ['이름' , '7시즌 WAR', '통산 WAR', 'JAWS']\n",
    "pitch_jaws_df = pd.DataFrame(columns=record_col)\n",
    "bat_jaws_df = pd.DataFrame(columns=record_col)"
   ]
  },
  {
   "cell_type": "code",
   "execution_count": 30,
   "id": "0dc6422f-c76f-410d-96fb-99753e4bc2aa",
   "metadata": {},
   "outputs": [],
   "source": [
    "for p in pitch_over10y_list:\n",
    "    war_7y = pitch_df[pitch_df['이름'] == p].sort_values(by='정렬', ascending=False)['정렬'][:7].sum()\n",
    "    war_all = pitch_df[pitch_df['이름'] == p].sort_values(by='정렬', ascending=False)['정렬'].sum()\n",
    "    data = {'이름' : p,\n",
    "            '7시즌 WAR' : war_7y,\n",
    "            '통산 WAR' : war_all,\n",
    "            'JAWS' : (war_all + war_7y) / 2}\n",
    "    pitch_jaws_df = pitch_jaws_df.append(data, ignore_index=True)"
   ]
  },
  {
   "cell_type": "code",
   "execution_count": 31,
   "id": "e7330195-e53f-46d1-abf8-653ae1c8ae3b",
   "metadata": {},
   "outputs": [],
   "source": [
    "for b in bat_over10y_list:\n",
    "    war_7y = bat_df[bat_df['이름'] == b].sort_values(by='정렬', ascending=False)['정렬'][:7].sum()\n",
    "    war_all = bat_df[bat_df['이름'] == b].sort_values(by='정렬', ascending=False)['정렬'].sum()\n",
    "    data = {'이름' : b,\n",
    "            '7시즌 WAR' : war_7y,\n",
    "            '통산 WAR' : war_all,\n",
    "            'JAWS' : (war_all + war_7y) / 2}\n",
    "    bat_jaws_df = bat_jaws_df.append(data, ignore_index=True)"
   ]
  },
  {
   "cell_type": "code",
   "execution_count": 47,
   "id": "f9f4138c-bc0f-4399-8fb7-02fbbdcf3aa4",
   "metadata": {},
   "outputs": [
    {
     "data": {
      "text/html": [
       "<div>\n",
       "<style scoped>\n",
       "    .dataframe tbody tr th:only-of-type {\n",
       "        vertical-align: middle;\n",
       "    }\n",
       "\n",
       "    .dataframe tbody tr th {\n",
       "        vertical-align: top;\n",
       "    }\n",
       "\n",
       "    .dataframe thead th {\n",
       "        text-align: right;\n",
       "    }\n",
       "</style>\n",
       "<table border=\"1\" class=\"dataframe\">\n",
       "  <thead>\n",
       "    <tr style=\"text-align: right;\">\n",
       "      <th></th>\n",
       "      <th>이름</th>\n",
       "      <th>7시즌 WAR</th>\n",
       "      <th>통산 WAR</th>\n",
       "      <th>JAWS</th>\n",
       "    </tr>\n",
       "  </thead>\n",
       "  <tbody>\n",
       "    <tr>\n",
       "      <th>145</th>\n",
       "      <td>선동열</td>\n",
       "      <td>78.89</td>\n",
       "      <td>101.29</td>\n",
       "      <td>90.090</td>\n",
       "    </tr>\n",
       "    <tr>\n",
       "      <th>157</th>\n",
       "      <td>송진우</td>\n",
       "      <td>38.09</td>\n",
       "      <td>69.08</td>\n",
       "      <td>53.585</td>\n",
       "    </tr>\n",
       "    <tr>\n",
       "      <th>281</th>\n",
       "      <td>정민철</td>\n",
       "      <td>43.79</td>\n",
       "      <td>59.70</td>\n",
       "      <td>51.745</td>\n",
       "    </tr>\n",
       "    <tr>\n",
       "      <th>320</th>\n",
       "      <td>최동원</td>\n",
       "      <td>47.70</td>\n",
       "      <td>47.72</td>\n",
       "      <td>47.710</td>\n",
       "    </tr>\n",
       "    <tr>\n",
       "      <th>64</th>\n",
       "      <td>김용수</td>\n",
       "      <td>37.17</td>\n",
       "      <td>58.01</td>\n",
       "      <td>47.590</td>\n",
       "    </tr>\n",
       "    <tr>\n",
       "      <th>259</th>\n",
       "      <td>임창용</td>\n",
       "      <td>40.33</td>\n",
       "      <td>54.71</td>\n",
       "      <td>47.520</td>\n",
       "    </tr>\n",
       "    <tr>\n",
       "      <th>175</th>\n",
       "      <td>양현종</td>\n",
       "      <td>40.86</td>\n",
       "      <td>51.60</td>\n",
       "      <td>46.230</td>\n",
       "    </tr>\n",
       "    <tr>\n",
       "      <th>96</th>\n",
       "      <td>류현진</td>\n",
       "      <td>44.76</td>\n",
       "      <td>44.76</td>\n",
       "      <td>44.760</td>\n",
       "    </tr>\n",
       "    <tr>\n",
       "      <th>282</th>\n",
       "      <td>정민태</td>\n",
       "      <td>40.04</td>\n",
       "      <td>45.31</td>\n",
       "      <td>42.675</td>\n",
       "    </tr>\n",
       "    <tr>\n",
       "      <th>205</th>\n",
       "      <td>윤학길</td>\n",
       "      <td>40.40</td>\n",
       "      <td>44.59</td>\n",
       "      <td>42.495</td>\n",
       "    </tr>\n",
       "    <tr>\n",
       "      <th>33</th>\n",
       "      <td>김광현</td>\n",
       "      <td>37.98</td>\n",
       "      <td>46.31</td>\n",
       "      <td>42.145</td>\n",
       "    </tr>\n",
       "    <tr>\n",
       "      <th>209</th>\n",
       "      <td>이강철</td>\n",
       "      <td>33.80</td>\n",
       "      <td>50.01</td>\n",
       "      <td>41.905</td>\n",
       "    </tr>\n",
       "    <tr>\n",
       "      <th>336</th>\n",
       "      <td>한용덕</td>\n",
       "      <td>35.01</td>\n",
       "      <td>48.14</td>\n",
       "      <td>41.575</td>\n",
       "    </tr>\n",
       "    <tr>\n",
       "      <th>294</th>\n",
       "      <td>조계현</td>\n",
       "      <td>36.36</td>\n",
       "      <td>45.03</td>\n",
       "      <td>40.695</td>\n",
       "    </tr>\n",
       "    <tr>\n",
       "      <th>17</th>\n",
       "      <td>구대성</td>\n",
       "      <td>35.10</td>\n",
       "      <td>41.93</td>\n",
       "      <td>38.515</td>\n",
       "    </tr>\n",
       "    <tr>\n",
       "      <th>50</th>\n",
       "      <td>김상진</td>\n",
       "      <td>31.61</td>\n",
       "      <td>45.30</td>\n",
       "      <td>38.455</td>\n",
       "    </tr>\n",
       "    <tr>\n",
       "      <th>149</th>\n",
       "      <td>손민한</td>\n",
       "      <td>31.95</td>\n",
       "      <td>40.80</td>\n",
       "      <td>36.375</td>\n",
       "    </tr>\n",
       "    <tr>\n",
       "      <th>280</th>\n",
       "      <td>정명원</td>\n",
       "      <td>33.03</td>\n",
       "      <td>37.06</td>\n",
       "      <td>35.045</td>\n",
       "    </tr>\n",
       "    <tr>\n",
       "      <th>136</th>\n",
       "      <td>배영수</td>\n",
       "      <td>30.42</td>\n",
       "      <td>38.08</td>\n",
       "      <td>34.250</td>\n",
       "    </tr>\n",
       "    <tr>\n",
       "      <th>61</th>\n",
       "      <td>김시진</td>\n",
       "      <td>33.43</td>\n",
       "      <td>34.59</td>\n",
       "      <td>34.010</td>\n",
       "    </tr>\n",
       "    <tr>\n",
       "      <th>203</th>\n",
       "      <td>윤성환</td>\n",
       "      <td>28.80</td>\n",
       "      <td>38.95</td>\n",
       "      <td>33.875</td>\n",
       "    </tr>\n",
       "    <tr>\n",
       "      <th>201</th>\n",
       "      <td>윤석민</td>\n",
       "      <td>30.39</td>\n",
       "      <td>37.31</td>\n",
       "      <td>33.850</td>\n",
       "    </tr>\n",
       "    <tr>\n",
       "      <th>230</th>\n",
       "      <td>이상훈</td>\n",
       "      <td>29.29</td>\n",
       "      <td>38.34</td>\n",
       "      <td>33.815</td>\n",
       "    </tr>\n",
       "    <tr>\n",
       "      <th>179</th>\n",
       "      <td>염종석</td>\n",
       "      <td>26.61</td>\n",
       "      <td>39.15</td>\n",
       "      <td>32.880</td>\n",
       "    </tr>\n",
       "    <tr>\n",
       "      <th>94</th>\n",
       "      <td>니퍼트</td>\n",
       "      <td>32.38</td>\n",
       "      <td>33.24</td>\n",
       "      <td>32.810</td>\n",
       "    </tr>\n",
       "    <tr>\n",
       "      <th>110</th>\n",
       "      <td>박명환</td>\n",
       "      <td>29.64</td>\n",
       "      <td>35.65</td>\n",
       "      <td>32.645</td>\n",
       "    </tr>\n",
       "    <tr>\n",
       "      <th>331</th>\n",
       "      <td>켈리</td>\n",
       "      <td>32.50</td>\n",
       "      <td>32.50</td>\n",
       "      <td>32.500</td>\n",
       "    </tr>\n",
       "    <tr>\n",
       "      <th>182</th>\n",
       "      <td>오승환</td>\n",
       "      <td>29.33</td>\n",
       "      <td>35.28</td>\n",
       "      <td>32.305</td>\n",
       "    </tr>\n",
       "    <tr>\n",
       "      <th>267</th>\n",
       "      <td>장원준</td>\n",
       "      <td>29.17</td>\n",
       "      <td>34.32</td>\n",
       "      <td>31.745</td>\n",
       "    </tr>\n",
       "    <tr>\n",
       "      <th>304</th>\n",
       "      <td>주형광</td>\n",
       "      <td>31.14</td>\n",
       "      <td>32.31</td>\n",
       "      <td>31.725</td>\n",
       "    </tr>\n",
       "  </tbody>\n",
       "</table>\n",
       "</div>"
      ],
      "text/plain": [
       "      이름  7시즌 WAR  통산 WAR    JAWS\n",
       "145  선동열    78.89  101.29  90.090\n",
       "157  송진우    38.09   69.08  53.585\n",
       "281  정민철    43.79   59.70  51.745\n",
       "320  최동원    47.70   47.72  47.710\n",
       "64   김용수    37.17   58.01  47.590\n",
       "259  임창용    40.33   54.71  47.520\n",
       "175  양현종    40.86   51.60  46.230\n",
       "96   류현진    44.76   44.76  44.760\n",
       "282  정민태    40.04   45.31  42.675\n",
       "205  윤학길    40.40   44.59  42.495\n",
       "33   김광현    37.98   46.31  42.145\n",
       "209  이강철    33.80   50.01  41.905\n",
       "336  한용덕    35.01   48.14  41.575\n",
       "294  조계현    36.36   45.03  40.695\n",
       "17   구대성    35.10   41.93  38.515\n",
       "50   김상진    31.61   45.30  38.455\n",
       "149  손민한    31.95   40.80  36.375\n",
       "280  정명원    33.03   37.06  35.045\n",
       "136  배영수    30.42   38.08  34.250\n",
       "61   김시진    33.43   34.59  34.010\n",
       "203  윤성환    28.80   38.95  33.875\n",
       "201  윤석민    30.39   37.31  33.850\n",
       "230  이상훈    29.29   38.34  33.815\n",
       "179  염종석    26.61   39.15  32.880\n",
       "94   니퍼트    32.38   33.24  32.810\n",
       "110  박명환    29.64   35.65  32.645\n",
       "331   켈리    32.50   32.50  32.500\n",
       "182  오승환    29.33   35.28  32.305\n",
       "267  장원준    29.17   34.32  31.745\n",
       "304  주형광    31.14   32.31  31.725"
      ]
     },
     "execution_count": 47,
     "metadata": {},
     "output_type": "execute_result"
    }
   ],
   "source": [
    "pitch_jaws_df.sort_values(by='JAWS', ascending=False).head(30)"
   ]
  },
  {
   "cell_type": "code",
   "execution_count": 46,
   "id": "e345f5cb-9eda-4d31-ad9d-aeb55395d2cf",
   "metadata": {},
   "outputs": [
    {
     "data": {
      "text/plain": [
       "7시즌 WAR    31.9466\n",
       "통산 WAR     39.2276\n",
       "JAWS       35.5871\n",
       "dtype: float64"
      ]
     },
     "execution_count": 46,
     "metadata": {},
     "output_type": "execute_result"
    }
   ],
   "source": [
    "pitch_jaws_df.sort_values(by='JAWS', ascending=False)[:50].mean()"
   ]
  },
  {
   "cell_type": "code",
   "execution_count": 44,
   "id": "f27c3db1-c01f-4a86-93ba-87a8ce2c0e90",
   "metadata": {},
   "outputs": [
    {
     "data": {
      "text/html": [
       "<div>\n",
       "<style scoped>\n",
       "    .dataframe tbody tr th:only-of-type {\n",
       "        vertical-align: middle;\n",
       "    }\n",
       "\n",
       "    .dataframe tbody tr th {\n",
       "        vertical-align: top;\n",
       "    }\n",
       "\n",
       "    .dataframe thead th {\n",
       "        text-align: right;\n",
       "    }\n",
       "</style>\n",
       "<table border=\"1\" class=\"dataframe\">\n",
       "  <thead>\n",
       "    <tr style=\"text-align: right;\">\n",
       "      <th></th>\n",
       "      <th>이름</th>\n",
       "      <th>7시즌 WAR</th>\n",
       "      <th>통산 WAR</th>\n",
       "      <th>JAWS</th>\n",
       "    </tr>\n",
       "  </thead>\n",
       "  <tbody>\n",
       "    <tr>\n",
       "      <th>321</th>\n",
       "      <td>양준혁</td>\n",
       "      <td>49.56</td>\n",
       "      <td>87.25</td>\n",
       "      <td>68.405</td>\n",
       "    </tr>\n",
       "    <tr>\n",
       "      <th>383</th>\n",
       "      <td>이승엽</td>\n",
       "      <td>50.76</td>\n",
       "      <td>71.88</td>\n",
       "      <td>61.320</td>\n",
       "    </tr>\n",
       "    <tr>\n",
       "      <th>517</th>\n",
       "      <td>최정</td>\n",
       "      <td>45.00</td>\n",
       "      <td>77.45</td>\n",
       "      <td>61.225</td>\n",
       "    </tr>\n",
       "    <tr>\n",
       "      <th>401</th>\n",
       "      <td>이종범</td>\n",
       "      <td>54.51</td>\n",
       "      <td>67.76</td>\n",
       "      <td>61.135</td>\n",
       "    </tr>\n",
       "    <tr>\n",
       "      <th>194</th>\n",
       "      <td>김태균</td>\n",
       "      <td>39.80</td>\n",
       "      <td>77.07</td>\n",
       "      <td>58.435</td>\n",
       "    </tr>\n",
       "    <tr>\n",
       "      <th>374</th>\n",
       "      <td>이병규</td>\n",
       "      <td>38.41</td>\n",
       "      <td>71.73</td>\n",
       "      <td>55.070</td>\n",
       "    </tr>\n",
       "    <tr>\n",
       "      <th>524</th>\n",
       "      <td>최형우</td>\n",
       "      <td>43.20</td>\n",
       "      <td>65.71</td>\n",
       "      <td>54.455</td>\n",
       "    </tr>\n",
       "    <tr>\n",
       "      <th>118</th>\n",
       "      <td>김동주</td>\n",
       "      <td>42.43</td>\n",
       "      <td>66.37</td>\n",
       "      <td>54.400</td>\n",
       "    </tr>\n",
       "    <tr>\n",
       "      <th>369</th>\n",
       "      <td>이만수</td>\n",
       "      <td>42.26</td>\n",
       "      <td>65.30</td>\n",
       "      <td>53.780</td>\n",
       "    </tr>\n",
       "    <tr>\n",
       "      <th>228</th>\n",
       "      <td>박경완</td>\n",
       "      <td>37.97</td>\n",
       "      <td>67.62</td>\n",
       "      <td>52.795</td>\n",
       "    </tr>\n",
       "    <tr>\n",
       "      <th>438</th>\n",
       "      <td>장종훈</td>\n",
       "      <td>42.42</td>\n",
       "      <td>62.71</td>\n",
       "      <td>52.565</td>\n",
       "    </tr>\n",
       "    <tr>\n",
       "      <th>250</th>\n",
       "      <td>박재홍</td>\n",
       "      <td>41.79</td>\n",
       "      <td>60.65</td>\n",
       "      <td>51.220</td>\n",
       "    </tr>\n",
       "    <tr>\n",
       "      <th>364</th>\n",
       "      <td>이대호</td>\n",
       "      <td>43.56</td>\n",
       "      <td>57.79</td>\n",
       "      <td>50.675</td>\n",
       "    </tr>\n",
       "    <tr>\n",
       "      <th>203</th>\n",
       "      <td>김현수</td>\n",
       "      <td>40.26</td>\n",
       "      <td>59.03</td>\n",
       "      <td>49.645</td>\n",
       "    </tr>\n",
       "    <tr>\n",
       "      <th>308</th>\n",
       "      <td>심정수</td>\n",
       "      <td>42.78</td>\n",
       "      <td>56.17</td>\n",
       "      <td>49.475</td>\n",
       "    </tr>\n",
       "    <tr>\n",
       "      <th>237</th>\n",
       "      <td>박석민</td>\n",
       "      <td>37.97</td>\n",
       "      <td>57.54</td>\n",
       "      <td>47.755</td>\n",
       "    </tr>\n",
       "    <tr>\n",
       "      <th>550</th>\n",
       "      <td>홍현우</td>\n",
       "      <td>42.84</td>\n",
       "      <td>52.47</td>\n",
       "      <td>47.655</td>\n",
       "    </tr>\n",
       "    <tr>\n",
       "      <th>281</th>\n",
       "      <td>손아섭</td>\n",
       "      <td>38.49</td>\n",
       "      <td>55.63</td>\n",
       "      <td>47.060</td>\n",
       "    </tr>\n",
       "    <tr>\n",
       "      <th>112</th>\n",
       "      <td>김기태</td>\n",
       "      <td>39.98</td>\n",
       "      <td>53.31</td>\n",
       "      <td>46.645</td>\n",
       "    </tr>\n",
       "    <tr>\n",
       "      <th>2</th>\n",
       "      <td>07두P</td>\n",
       "      <td>45.00</td>\n",
       "      <td>48.00</td>\n",
       "      <td>46.500</td>\n",
       "    </tr>\n",
       "    <tr>\n",
       "      <th>319</th>\n",
       "      <td>양의지</td>\n",
       "      <td>39.02</td>\n",
       "      <td>53.85</td>\n",
       "      <td>46.435</td>\n",
       "    </tr>\n",
       "    <tr>\n",
       "      <th>76</th>\n",
       "      <td>강민호</td>\n",
       "      <td>34.88</td>\n",
       "      <td>57.58</td>\n",
       "      <td>46.230</td>\n",
       "    </tr>\n",
       "    <tr>\n",
       "      <th>431</th>\n",
       "      <td>장성호</td>\n",
       "      <td>36.24</td>\n",
       "      <td>55.70</td>\n",
       "      <td>45.970</td>\n",
       "    </tr>\n",
       "    <tr>\n",
       "      <th>246</th>\n",
       "      <td>박용택</td>\n",
       "      <td>33.73</td>\n",
       "      <td>58.20</td>\n",
       "      <td>45.965</td>\n",
       "    </tr>\n",
       "    <tr>\n",
       "      <th>373</th>\n",
       "      <td>이범호</td>\n",
       "      <td>34.26</td>\n",
       "      <td>57.29</td>\n",
       "      <td>45.775</td>\n",
       "    </tr>\n",
       "    <tr>\n",
       "      <th>116</th>\n",
       "      <td>김동수</td>\n",
       "      <td>32.07</td>\n",
       "      <td>55.47</td>\n",
       "      <td>43.770</td>\n",
       "    </tr>\n",
       "    <tr>\n",
       "      <th>68</th>\n",
       "      <td>21키P</td>\n",
       "      <td>31.00</td>\n",
       "      <td>56.00</td>\n",
       "      <td>43.500</td>\n",
       "    </tr>\n",
       "    <tr>\n",
       "      <th>47</th>\n",
       "      <td>18KP</td>\n",
       "      <td>35.00</td>\n",
       "      <td>52.00</td>\n",
       "      <td>43.500</td>\n",
       "    </tr>\n",
       "    <tr>\n",
       "      <th>236</th>\n",
       "      <td>박병호</td>\n",
       "      <td>41.41</td>\n",
       "      <td>43.99</td>\n",
       "      <td>42.700</td>\n",
       "    </tr>\n",
       "    <tr>\n",
       "      <th>172</th>\n",
       "      <td>김재현</td>\n",
       "      <td>32.82</td>\n",
       "      <td>52.13</td>\n",
       "      <td>42.475</td>\n",
       "    </tr>\n",
       "  </tbody>\n",
       "</table>\n",
       "</div>"
      ],
      "text/plain": [
       "       이름  7시즌 WAR  통산 WAR    JAWS\n",
       "321   양준혁    49.56   87.25  68.405\n",
       "383   이승엽    50.76   71.88  61.320\n",
       "517    최정    45.00   77.45  61.225\n",
       "401   이종범    54.51   67.76  61.135\n",
       "194   김태균    39.80   77.07  58.435\n",
       "374   이병규    38.41   71.73  55.070\n",
       "524   최형우    43.20   65.71  54.455\n",
       "118   김동주    42.43   66.37  54.400\n",
       "369   이만수    42.26   65.30  53.780\n",
       "228   박경완    37.97   67.62  52.795\n",
       "438   장종훈    42.42   62.71  52.565\n",
       "250   박재홍    41.79   60.65  51.220\n",
       "364   이대호    43.56   57.79  50.675\n",
       "203   김현수    40.26   59.03  49.645\n",
       "308   심정수    42.78   56.17  49.475\n",
       "237   박석민    37.97   57.54  47.755\n",
       "550   홍현우    42.84   52.47  47.655\n",
       "281   손아섭    38.49   55.63  47.060\n",
       "112   김기태    39.98   53.31  46.645\n",
       "2    07두P    45.00   48.00  46.500\n",
       "319   양의지    39.02   53.85  46.435\n",
       "76    강민호    34.88   57.58  46.230\n",
       "431   장성호    36.24   55.70  45.970\n",
       "246   박용택    33.73   58.20  45.965\n",
       "373   이범호    34.26   57.29  45.775\n",
       "116   김동수    32.07   55.47  43.770\n",
       "68   21키P    31.00   56.00  43.500\n",
       "47   18KP    35.00   52.00  43.500\n",
       "236   박병호    41.41   43.99  42.700\n",
       "172   김재현    32.82   52.13  42.475"
      ]
     },
     "execution_count": 44,
     "metadata": {},
     "output_type": "execute_result"
    }
   ],
   "source": [
    "bat_jaws_df.sort_values(by='JAWS', ascending=False).head(30)"
   ]
  },
  {
   "cell_type": "code",
   "execution_count": 48,
   "id": "b99686c2-8603-4a20-bafb-b773d515d384",
   "metadata": {},
   "outputs": [
    {
     "data": {
      "text/plain": [
       "7시즌 WAR    37.0456\n",
       "통산 WAR     54.0596\n",
       "JAWS       45.5526\n",
       "dtype: float64"
      ]
     },
     "execution_count": 48,
     "metadata": {},
     "output_type": "execute_result"
    }
   ],
   "source": [
    "bat_jaws_df.sort_values(by='JAWS', ascending=False)[:50].mean()"
   ]
  },
  {
   "cell_type": "markdown",
   "id": "f44e04e5-d6ef-4223-ba42-04f3735494c3",
   "metadata": {},
   "source": [
    "----------------\n",
    "## [KBO] 확대된 스트라이크존, KBO에 어떤 영향을 미칠까\n",
    "### 1. 최근 KBO리그 타고투저 / 투고타저 경향"
   ]
  },
  {
   "cell_type": "markdown",
   "id": "1f6a34cf-1290-41e7-b466-0c0d82d4243d",
   "metadata": {},
   "source": [
    "- 리그 평균자책점과 평균타율"
   ]
  },
  {
   "cell_type": "code",
   "execution_count": 6,
   "id": "a5440c1c-778e-4797-990e-1f4aa857750a",
   "metadata": {},
   "outputs": [],
   "source": [
    "era_0021 = [4.61, 4.72, 4.24, 4.28, 4.31, 4.22, 3.59, 3.91, 4.11, 4.80, 4.58, 4.14, 3.82, 4.32, 5.26, 4.89, 5.19, 4.98, 5.20, 4.18, 4.76, 4.45]\n",
    "avg_0021 = [0.270, 0.274, 0.263, 0.269, 0.266, 0.263, 0.255, 0.263, 0.267, 0.275, 0.270, 0.265, 0.258, 0.268, 0.289, 0.280, 0.290, 0.286, 0.286, 0.267, 0.273, 0.260]"
   ]
  },
  {
   "cell_type": "code",
   "execution_count": 5,
   "id": "70d5fde6-fe7f-45ad-9734-a40b4f2320d1",
   "metadata": {},
   "outputs": [
    {
     "data": {
      "text/plain": [
       "21"
      ]
     },
     "execution_count": 5,
     "metadata": {},
     "output_type": "execute_result"
    }
   ],
   "source": [
    "len(era_0021)"
   ]
  },
  {
   "cell_type": "code",
   "execution_count": 53,
   "id": "c52f5e6f-b9b5-452b-bce6-7e2c9fc57147",
   "metadata": {},
   "outputs": [
    {
     "data": {
      "image/png": "[encoded data removed]",
      "text/plain": [
       "<Figure size 432x288 with 1 Axes>"
      ]
     },
     "metadata": {
      "needs_background": "light"
     },
     "output_type": "display_data"
    }
   ],
   "source": [
    "import matplotlib.pyplot as plt\n",
    "\n",
    "x = range(2000, 2022)\n",
    "y = era_0021\n",
    "graph = plt.plot(x, y, marker='o')\n",
    "plt.ylim(3, 6)\n",
    "plt.title('KBO League ERA Mean (2000 ~)')\n",
    "plt.tight_layout()\n",
    "# plt.figure(figsize=(14,4))\n",
    "\n",
    "\n",
    "plt.show()"
   ]
  },
  {
   "cell_type": "code",
   "execution_count": 52,
   "id": "7176e5d6-f44a-4202-b299-46502aed1f36",
   "metadata": {},
   "outputs": [
    {
     "data": {
      "image/png": "[encoded data removed]",
      "text/plain": [
       "<Figure size 432x288 with 1 Axes>"
      ]
     },
     "metadata": {
      "needs_background": "light"
     },
     "output_type": "display_data"
    }
   ],
   "source": [
    "x = range(2000, 2022)\n",
    "y = avg_0021\n",
    "graph = plt.plot(x, y, marker='o')\n",
    "plt.ylim(0.22, 0.3)\n",
    "plt.title('KBO League Hit_avg Mean (2000 ~)')\n",
    "# plt.figure(figsize=(12,6))\n",
    "plt.tight_layout()\n",
    "\n",
    "plt.show()"
   ]
  },
  {
   "cell_type": "code",
   "execution_count": 39,
   "id": "1332c9d8-4660-4e41-a479-13a2bf790d3b",
   "metadata": {},
   "outputs": [
    {
     "data": {
      "image/png": "[encoded data removed]",
      "text/plain": [
       "<Figure size 432x288 with 2 Axes>"
      ]
     },
     "metadata": {
      "needs_background": "light"
     },
     "output_type": "display_data"
    }
   ],
   "source": [
    "# plot 겹쳐그리기\n",
    "x = range(2000, 2022)\n",
    "fig, ax1 = plt.subplots()\n",
    "color_1 = 'tab:blue' \n",
    "ax1.set_title('KBO League ERA & Hit_avg Mean (2000 ~)', fontsize=14)\n",
    "ax1.set_xlabel('Year') \n",
    "ax1.set_ylabel('ERA', fontsize=14, color=color_1) \n",
    "ax1.plot(x, era_0021, marker='s', color=color_1) \n",
    "ax1.tick_params(axis='y', labelcolor=color_1)\n",
    "\n",
    "# 타율그래프\n",
    "ax2 = ax1.twinx()\n",
    "color_2 = 'tab:red'\n",
    "ax2.set_ylabel('Hit_avg', fontsize=14, color=color_2)\n",
    "ax2.plot(x, avg_0021, marker='o', color=color_2)\n",
    "ax2.tick_params(axis='y', labelcolor=color_2)\n",
    "\n",
    "fig.tight_layout() # 자동으로 여백관련 파라미터 조정\n",
    "plt.show()"
   ]
  },
  {
   "cell_type": "markdown",
   "id": "c7ebb4e9-5473-496a-980a-f46b7c6cf63e",
   "metadata": {},
   "source": [
    "- 리그평균 BB/9과 BABIP"
   ]
  },
  {
   "cell_type": "code",
   "execution_count": 42,
   "id": "fbd236fc-4d22-4594-adeb-4ff1854b9626",
   "metadata": {},
   "outputs": [
    {
     "data": {
      "image/png": "[encoded data removed]",
      "text/plain": [
       "<Figure size 432x288 with 1 Axes>"
      ]
     },
     "metadata": {
      "needs_background": "light"
     },
     "output_type": "display_data"
    }
   ],
   "source": [
    "bb_9 = [3.71, 4.15, 3.22, 3.56, 3.69, 3.48, 3.32, 3.61, 3.58, 4.09, 3.83, 3.74, 3.50, 3.81, 3.84, 3.70, 3.78, 3.18, 3.26, 3.35, 3.74, 4.19]\n",
    "babip = [0.303, 0.305, 0.300, 0.296, 0.300, 0.299, 0.290, 0.294, 0.302, 0.310, 0.308, 0.308, 0.300, 0.314, 0.330, 0.326, 0.331, 0.327, 0.329, 0.310, 0.313, 0.304]\n",
    "\n",
    "x = range(2000, 2022)\n",
    "fig, ax1 = plt.subplots()\n",
    "color_1 = 'tab:blue' \n",
    "ax1.set_title('KBO League BB/9 (2000 ~)', fontsize=14)\n",
    "ax1.set_xlabel('Year') \n",
    "ax1.set_ylabel('BB/9', fontsize=14, color=color_1) \n",
    "ax1.plot(x, bb_9, marker='s', color=color_1) \n",
    "ax1.tick_params(axis='y', labelcolor=color_1)\n",
    "\n",
    "fig.tight_layout() # 자동으로 여백관련 파라미터 조정\n",
    "plt.show()"
   ]
  },
  {
   "cell_type": "code",
   "execution_count": 54,
   "id": "9ba47266-b910-4485-9cf3-10a493a0ca42",
   "metadata": {},
   "outputs": [
    {
     "data": {
      "text/plain": [
       "4.19"
      ]
     },
     "execution_count": 54,
     "metadata": {},
     "output_type": "execute_result"
    }
   ],
   "source": [
    "max(bb_9)"
   ]
  },
  {
   "cell_type": "code",
   "execution_count": 44,
   "id": "d5e4d046-2d97-4b4e-8c79-25a37dba08c4",
   "metadata": {},
   "outputs": [
    {
     "data": {
      "image/png": "[encoded data removed]",
      "text/plain": [
       "<Figure size 432x288 with 1 Axes>"
      ]
     },
     "metadata": {
      "needs_background": "light"
     },
     "output_type": "display_data"
    }
   ],
   "source": [
    "fig, ax1 = plt.subplots()\n",
    "color_1 = 'tab:blue' \n",
    "ax1.set_title('KBO League BABIP (2000 ~)', fontsize=14)\n",
    "ax1.set_xlabel('Year') \n",
    "ax1.set_ylabel('BABIP', fontsize=14, color=color_1) \n",
    "ax1.plot(x, babip, marker='s', color=color_1) \n",
    "ax1.tick_params(axis='y', labelcolor=color_1)\n",
    "fig.tight_layout() # 자동으로 여백관련 파라미터 조정\n",
    "plt.show()"
   ]
  },
  {
   "cell_type": "markdown",
   "id": "657fffe0-7045-4601-bc6b-5476892387c1",
   "metadata": {},
   "source": [
    "### 2. 확대된 스트라이크존이 도입된 이유"
   ]
  },
  {
   "cell_type": "markdown",
   "id": "60f49624-9468-4a91-b531-872d572a0414",
   "metadata": {},
   "source": [
    "- 최근의 타고투저 경향\n",
    "- 최근 이어진 스트라이크존 판정 논란 및 투수들의 제구력문제 (사사구 문제)\n",
    "- 국제대회 기준보다 좁은 스트라이크존으로 성적 하락"
   ]
  },
  {
   "cell_type": "markdown",
   "id": "6b7ee820-4deb-4b5a-b842-8a00772f84b5",
   "metadata": {},
   "source": [
    "### 3. 확대된 스트라이크존이 KBO에 미칠 영향"
   ]
  },
  {
   "cell_type": "markdown",
   "id": "917f7e1b-5e8b-4a66-abeb-a2df090b13b3",
   "metadata": {},
   "source": [
    "- 하이패스트볼과 종으로 떨어지는 변화구의 비중 증가\n",
    "- 적극적인 타격으로 범타 증가 = 내야수비 중요성 확대\n",
    "- 볼넷감소, 삼진/범타 증가 --> 경기시간 감소"
   ]
  },
  {
   "cell_type": "code",
   "execution_count": null,
   "id": "fad26dfb-197d-4aa8-8272-50f3b59b7fe9",
   "metadata": {},
   "outputs": [],
   "source": []
  }
 ],
 "metadata": {
  "kernelspec": {
   "display_name": "Python 3 (ipykernel)",
   "language": "python",
   "name": "python3"
  },
  "language_info": {
   "codemirror_mode": {
    "name": "ipython",
    "version": 3
   },
   "file_extension": ".py",
   "mimetype": "text/x-python",
   "name": "python",
   "nbconvert_exporter": "python",
   "pygments_lexer": "ipython3",
   "version": "3.9.7"
  }
 },
 "nbformat": 4,
 "nbformat_minor": 5
}
